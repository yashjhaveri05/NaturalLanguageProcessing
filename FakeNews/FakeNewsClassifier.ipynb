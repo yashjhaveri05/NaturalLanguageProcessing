{
  "nbformat": 4,
  "nbformat_minor": 0,
  "metadata": {
    "colab": {
      "name": "FakeNewsClassifier.ipynb",
      "provenance": [],
      "collapsed_sections": [],
      "toc_visible": true
    },
    "kernelspec": {
      "name": "python3",
      "display_name": "Python 3"
    },
    "language_info": {
      "name": "python"
    },
    "accelerator": "GPU"
  },
  "cells": [
    {
      "cell_type": "code",
      "metadata": {
        "colab": {
          "base_uri": "https://localhost:8080/"
        },
        "id": "zxwWqFqI-6oU",
        "outputId": "31a6b92c-85b4-4f6a-bd89-988378949edb"
      },
      "source": [
        "#Checking GPU Configurations for faster execution\n",
        "import tensorflow as tf\n",
        "device_name = tf.test.gpu_device_name()\n",
        "if device_name != '/device:GPU:0':\n",
        "  raise SystemError('GPU device not found')\n",
        "print('Found GPU at: {}'.format(device_name))"
      ],
      "execution_count": 1,
      "outputs": [
        {
          "output_type": "stream",
          "text": [
            "Found GPU at: /device:GPU:0\n"
          ],
          "name": "stdout"
        }
      ]
    },
    {
      "cell_type": "code",
      "metadata": {
        "id": "ey7Izox2Azxt"
      },
      "source": [
        "import numpy as np\n",
        "import pandas as pd\n",
        "import matplotlib.pyplot as plt\n",
        "%matplotlib inline\n",
        "import seaborn as sns\n",
        "sns.set_style('darkgrid')"
      ],
      "execution_count": 2,
      "outputs": []
    },
    {
      "cell_type": "code",
      "metadata": {
        "id": "mml0nZzh_JNu"
      },
      "source": [
        "df_true = pd.read_csv('True.csv')\n",
        "df_fake = pd.read_csv('Fake.csv')"
      ],
      "execution_count": 3,
      "outputs": []
    },
    {
      "cell_type": "markdown",
      "metadata": {
        "id": "sAAxutDzDSu7"
      },
      "source": [
        "## **Data Preparation and PreProcessing**"
      ]
    },
    {
      "cell_type": "code",
      "metadata": {
        "id": "BWnyvPKC_ny1",
        "colab": {
          "base_uri": "https://localhost:8080/",
          "height": 195
        },
        "outputId": "7f0de51f-86d9-4bc0-95a9-5366de6589d8"
      },
      "source": [
        "df_fake.head()"
      ],
      "execution_count": 4,
      "outputs": [
        {
          "output_type": "execute_result",
          "data": {
            "text/html": [
              "<div>\n",
              "<style scoped>\n",
              "    .dataframe tbody tr th:only-of-type {\n",
              "        vertical-align: middle;\n",
              "    }\n",
              "\n",
              "    .dataframe tbody tr th {\n",
              "        vertical-align: top;\n",
              "    }\n",
              "\n",
              "    .dataframe thead th {\n",
              "        text-align: right;\n",
              "    }\n",
              "</style>\n",
              "<table border=\"1\" class=\"dataframe\">\n",
              "  <thead>\n",
              "    <tr style=\"text-align: right;\">\n",
              "      <th></th>\n",
              "      <th>title</th>\n",
              "      <th>text</th>\n",
              "      <th>subject</th>\n",
              "      <th>date</th>\n",
              "    </tr>\n",
              "  </thead>\n",
              "  <tbody>\n",
              "    <tr>\n",
              "      <th>0</th>\n",
              "      <td>Donald Trump Sends Out Embarrassing New Year’...</td>\n",
              "      <td>Donald Trump just couldn t wish all Americans ...</td>\n",
              "      <td>News</td>\n",
              "      <td>December 31, 2017</td>\n",
              "    </tr>\n",
              "    <tr>\n",
              "      <th>1</th>\n",
              "      <td>Drunk Bragging Trump Staffer Started Russian ...</td>\n",
              "      <td>House Intelligence Committee Chairman Devin Nu...</td>\n",
              "      <td>News</td>\n",
              "      <td>December 31, 2017</td>\n",
              "    </tr>\n",
              "    <tr>\n",
              "      <th>2</th>\n",
              "      <td>Sheriff David Clarke Becomes An Internet Joke...</td>\n",
              "      <td>On Friday, it was revealed that former Milwauk...</td>\n",
              "      <td>News</td>\n",
              "      <td>December 30, 2017</td>\n",
              "    </tr>\n",
              "    <tr>\n",
              "      <th>3</th>\n",
              "      <td>Trump Is So Obsessed He Even Has Obama’s Name...</td>\n",
              "      <td>On Christmas day, Donald Trump announced that ...</td>\n",
              "      <td>News</td>\n",
              "      <td>December 29, 2017</td>\n",
              "    </tr>\n",
              "    <tr>\n",
              "      <th>4</th>\n",
              "      <td>Pope Francis Just Called Out Donald Trump Dur...</td>\n",
              "      <td>Pope Francis used his annual Christmas Day mes...</td>\n",
              "      <td>News</td>\n",
              "      <td>December 25, 2017</td>\n",
              "    </tr>\n",
              "  </tbody>\n",
              "</table>\n",
              "</div>"
            ],
            "text/plain": [
              "                                               title  ...               date\n",
              "0   Donald Trump Sends Out Embarrassing New Year’...  ...  December 31, 2017\n",
              "1   Drunk Bragging Trump Staffer Started Russian ...  ...  December 31, 2017\n",
              "2   Sheriff David Clarke Becomes An Internet Joke...  ...  December 30, 2017\n",
              "3   Trump Is So Obsessed He Even Has Obama’s Name...  ...  December 29, 2017\n",
              "4   Pope Francis Just Called Out Donald Trump Dur...  ...  December 25, 2017\n",
              "\n",
              "[5 rows x 4 columns]"
            ]
          },
          "metadata": {
            "tags": []
          },
          "execution_count": 4
        }
      ]
    },
    {
      "cell_type": "code",
      "metadata": {
        "id": "uR9jdkFx_p7y",
        "colab": {
          "base_uri": "https://localhost:8080/",
          "height": 195
        },
        "outputId": "9813ec5c-45d1-4c40-bda9-e48a8eeb3ad3"
      },
      "source": [
        "df_true.head()"
      ],
      "execution_count": 5,
      "outputs": [
        {
          "output_type": "execute_result",
          "data": {
            "text/html": [
              "<div>\n",
              "<style scoped>\n",
              "    .dataframe tbody tr th:only-of-type {\n",
              "        vertical-align: middle;\n",
              "    }\n",
              "\n",
              "    .dataframe tbody tr th {\n",
              "        vertical-align: top;\n",
              "    }\n",
              "\n",
              "    .dataframe thead th {\n",
              "        text-align: right;\n",
              "    }\n",
              "</style>\n",
              "<table border=\"1\" class=\"dataframe\">\n",
              "  <thead>\n",
              "    <tr style=\"text-align: right;\">\n",
              "      <th></th>\n",
              "      <th>title</th>\n",
              "      <th>text</th>\n",
              "      <th>subject</th>\n",
              "      <th>date</th>\n",
              "    </tr>\n",
              "  </thead>\n",
              "  <tbody>\n",
              "    <tr>\n",
              "      <th>0</th>\n",
              "      <td>As U.S. budget fight looms, Republicans flip t...</td>\n",
              "      <td>WASHINGTON (Reuters) - The head of a conservat...</td>\n",
              "      <td>politicsNews</td>\n",
              "      <td>December 31, 2017</td>\n",
              "    </tr>\n",
              "    <tr>\n",
              "      <th>1</th>\n",
              "      <td>U.S. military to accept transgender recruits o...</td>\n",
              "      <td>WASHINGTON (Reuters) - Transgender people will...</td>\n",
              "      <td>politicsNews</td>\n",
              "      <td>December 29, 2017</td>\n",
              "    </tr>\n",
              "    <tr>\n",
              "      <th>2</th>\n",
              "      <td>Senior U.S. Republican senator: 'Let Mr. Muell...</td>\n",
              "      <td>WASHINGTON (Reuters) - The special counsel inv...</td>\n",
              "      <td>politicsNews</td>\n",
              "      <td>December 31, 2017</td>\n",
              "    </tr>\n",
              "    <tr>\n",
              "      <th>3</th>\n",
              "      <td>FBI Russia probe helped by Australian diplomat...</td>\n",
              "      <td>WASHINGTON (Reuters) - Trump campaign adviser ...</td>\n",
              "      <td>politicsNews</td>\n",
              "      <td>December 30, 2017</td>\n",
              "    </tr>\n",
              "    <tr>\n",
              "      <th>4</th>\n",
              "      <td>Trump wants Postal Service to charge 'much mor...</td>\n",
              "      <td>SEATTLE/WASHINGTON (Reuters) - President Donal...</td>\n",
              "      <td>politicsNews</td>\n",
              "      <td>December 29, 2017</td>\n",
              "    </tr>\n",
              "  </tbody>\n",
              "</table>\n",
              "</div>"
            ],
            "text/plain": [
              "                                               title  ...                date\n",
              "0  As U.S. budget fight looms, Republicans flip t...  ...  December 31, 2017 \n",
              "1  U.S. military to accept transgender recruits o...  ...  December 29, 2017 \n",
              "2  Senior U.S. Republican senator: 'Let Mr. Muell...  ...  December 31, 2017 \n",
              "3  FBI Russia probe helped by Australian diplomat...  ...  December 30, 2017 \n",
              "4  Trump wants Postal Service to charge 'much mor...  ...  December 29, 2017 \n",
              "\n",
              "[5 rows x 4 columns]"
            ]
          },
          "metadata": {
            "tags": []
          },
          "execution_count": 5
        }
      ]
    },
    {
      "cell_type": "code",
      "metadata": {
        "id": "swSTBPHY_rMi"
      },
      "source": [
        "df_fake['label'] = 0\n",
        "df_true['label'] = 1"
      ],
      "execution_count": 6,
      "outputs": []
    },
    {
      "cell_type": "code",
      "metadata": {
        "id": "i38CbzQ-_sYC",
        "colab": {
          "base_uri": "https://localhost:8080/",
          "height": 195
        },
        "outputId": "d7a9803f-dbb7-4898-be3b-d752e1568dad"
      },
      "source": [
        "df_fake.head()"
      ],
      "execution_count": 7,
      "outputs": [
        {
          "output_type": "execute_result",
          "data": {
            "text/html": [
              "<div>\n",
              "<style scoped>\n",
              "    .dataframe tbody tr th:only-of-type {\n",
              "        vertical-align: middle;\n",
              "    }\n",
              "\n",
              "    .dataframe tbody tr th {\n",
              "        vertical-align: top;\n",
              "    }\n",
              "\n",
              "    .dataframe thead th {\n",
              "        text-align: right;\n",
              "    }\n",
              "</style>\n",
              "<table border=\"1\" class=\"dataframe\">\n",
              "  <thead>\n",
              "    <tr style=\"text-align: right;\">\n",
              "      <th></th>\n",
              "      <th>title</th>\n",
              "      <th>text</th>\n",
              "      <th>subject</th>\n",
              "      <th>date</th>\n",
              "      <th>label</th>\n",
              "    </tr>\n",
              "  </thead>\n",
              "  <tbody>\n",
              "    <tr>\n",
              "      <th>0</th>\n",
              "      <td>Donald Trump Sends Out Embarrassing New Year’...</td>\n",
              "      <td>Donald Trump just couldn t wish all Americans ...</td>\n",
              "      <td>News</td>\n",
              "      <td>December 31, 2017</td>\n",
              "      <td>0</td>\n",
              "    </tr>\n",
              "    <tr>\n",
              "      <th>1</th>\n",
              "      <td>Drunk Bragging Trump Staffer Started Russian ...</td>\n",
              "      <td>House Intelligence Committee Chairman Devin Nu...</td>\n",
              "      <td>News</td>\n",
              "      <td>December 31, 2017</td>\n",
              "      <td>0</td>\n",
              "    </tr>\n",
              "    <tr>\n",
              "      <th>2</th>\n",
              "      <td>Sheriff David Clarke Becomes An Internet Joke...</td>\n",
              "      <td>On Friday, it was revealed that former Milwauk...</td>\n",
              "      <td>News</td>\n",
              "      <td>December 30, 2017</td>\n",
              "      <td>0</td>\n",
              "    </tr>\n",
              "    <tr>\n",
              "      <th>3</th>\n",
              "      <td>Trump Is So Obsessed He Even Has Obama’s Name...</td>\n",
              "      <td>On Christmas day, Donald Trump announced that ...</td>\n",
              "      <td>News</td>\n",
              "      <td>December 29, 2017</td>\n",
              "      <td>0</td>\n",
              "    </tr>\n",
              "    <tr>\n",
              "      <th>4</th>\n",
              "      <td>Pope Francis Just Called Out Donald Trump Dur...</td>\n",
              "      <td>Pope Francis used his annual Christmas Day mes...</td>\n",
              "      <td>News</td>\n",
              "      <td>December 25, 2017</td>\n",
              "      <td>0</td>\n",
              "    </tr>\n",
              "  </tbody>\n",
              "</table>\n",
              "</div>"
            ],
            "text/plain": [
              "                                               title  ... label\n",
              "0   Donald Trump Sends Out Embarrassing New Year’...  ...     0\n",
              "1   Drunk Bragging Trump Staffer Started Russian ...  ...     0\n",
              "2   Sheriff David Clarke Becomes An Internet Joke...  ...     0\n",
              "3   Trump Is So Obsessed He Even Has Obama’s Name...  ...     0\n",
              "4   Pope Francis Just Called Out Donald Trump Dur...  ...     0\n",
              "\n",
              "[5 rows x 5 columns]"
            ]
          },
          "metadata": {
            "tags": []
          },
          "execution_count": 7
        }
      ]
    },
    {
      "cell_type": "code",
      "metadata": {
        "id": "py4Ri2xj_uHa",
        "colab": {
          "base_uri": "https://localhost:8080/",
          "height": 195
        },
        "outputId": "4865bffe-4005-4d56-b98d-aab18ad1ce31"
      },
      "source": [
        "df_true.head()"
      ],
      "execution_count": 8,
      "outputs": [
        {
          "output_type": "execute_result",
          "data": {
            "text/html": [
              "<div>\n",
              "<style scoped>\n",
              "    .dataframe tbody tr th:only-of-type {\n",
              "        vertical-align: middle;\n",
              "    }\n",
              "\n",
              "    .dataframe tbody tr th {\n",
              "        vertical-align: top;\n",
              "    }\n",
              "\n",
              "    .dataframe thead th {\n",
              "        text-align: right;\n",
              "    }\n",
              "</style>\n",
              "<table border=\"1\" class=\"dataframe\">\n",
              "  <thead>\n",
              "    <tr style=\"text-align: right;\">\n",
              "      <th></th>\n",
              "      <th>title</th>\n",
              "      <th>text</th>\n",
              "      <th>subject</th>\n",
              "      <th>date</th>\n",
              "      <th>label</th>\n",
              "    </tr>\n",
              "  </thead>\n",
              "  <tbody>\n",
              "    <tr>\n",
              "      <th>0</th>\n",
              "      <td>As U.S. budget fight looms, Republicans flip t...</td>\n",
              "      <td>WASHINGTON (Reuters) - The head of a conservat...</td>\n",
              "      <td>politicsNews</td>\n",
              "      <td>December 31, 2017</td>\n",
              "      <td>1</td>\n",
              "    </tr>\n",
              "    <tr>\n",
              "      <th>1</th>\n",
              "      <td>U.S. military to accept transgender recruits o...</td>\n",
              "      <td>WASHINGTON (Reuters) - Transgender people will...</td>\n",
              "      <td>politicsNews</td>\n",
              "      <td>December 29, 2017</td>\n",
              "      <td>1</td>\n",
              "    </tr>\n",
              "    <tr>\n",
              "      <th>2</th>\n",
              "      <td>Senior U.S. Republican senator: 'Let Mr. Muell...</td>\n",
              "      <td>WASHINGTON (Reuters) - The special counsel inv...</td>\n",
              "      <td>politicsNews</td>\n",
              "      <td>December 31, 2017</td>\n",
              "      <td>1</td>\n",
              "    </tr>\n",
              "    <tr>\n",
              "      <th>3</th>\n",
              "      <td>FBI Russia probe helped by Australian diplomat...</td>\n",
              "      <td>WASHINGTON (Reuters) - Trump campaign adviser ...</td>\n",
              "      <td>politicsNews</td>\n",
              "      <td>December 30, 2017</td>\n",
              "      <td>1</td>\n",
              "    </tr>\n",
              "    <tr>\n",
              "      <th>4</th>\n",
              "      <td>Trump wants Postal Service to charge 'much mor...</td>\n",
              "      <td>SEATTLE/WASHINGTON (Reuters) - President Donal...</td>\n",
              "      <td>politicsNews</td>\n",
              "      <td>December 29, 2017</td>\n",
              "      <td>1</td>\n",
              "    </tr>\n",
              "  </tbody>\n",
              "</table>\n",
              "</div>"
            ],
            "text/plain": [
              "                                               title  ... label\n",
              "0  As U.S. budget fight looms, Republicans flip t...  ...     1\n",
              "1  U.S. military to accept transgender recruits o...  ...     1\n",
              "2  Senior U.S. Republican senator: 'Let Mr. Muell...  ...     1\n",
              "3  FBI Russia probe helped by Australian diplomat...  ...     1\n",
              "4  Trump wants Postal Service to charge 'much mor...  ...     1\n",
              "\n",
              "[5 rows x 5 columns]"
            ]
          },
          "metadata": {
            "tags": []
          },
          "execution_count": 8
        }
      ]
    },
    {
      "cell_type": "code",
      "metadata": {
        "id": "PgJGHGiz_vtS"
      },
      "source": [
        "df = pd.concat([df_fake,df_true])\n",
        "# To reshuffle the rows for random distribution of fake and real news\n",
        "df = df.sample(frac=1)"
      ],
      "execution_count": 9,
      "outputs": []
    },
    {
      "cell_type": "code",
      "metadata": {
        "id": "pHrJNkYR_zwI",
        "colab": {
          "base_uri": "https://localhost:8080/",
          "height": 195
        },
        "outputId": "8aeb25ba-4c88-4b6c-bc34-b6f2825d4424"
      },
      "source": [
        "#Checking if the dataset is randomly distributed or not\n",
        "df.reset_index(inplace=True)\n",
        "df.head()"
      ],
      "execution_count": 10,
      "outputs": [
        {
          "output_type": "execute_result",
          "data": {
            "text/html": [
              "<div>\n",
              "<style scoped>\n",
              "    .dataframe tbody tr th:only-of-type {\n",
              "        vertical-align: middle;\n",
              "    }\n",
              "\n",
              "    .dataframe tbody tr th {\n",
              "        vertical-align: top;\n",
              "    }\n",
              "\n",
              "    .dataframe thead th {\n",
              "        text-align: right;\n",
              "    }\n",
              "</style>\n",
              "<table border=\"1\" class=\"dataframe\">\n",
              "  <thead>\n",
              "    <tr style=\"text-align: right;\">\n",
              "      <th></th>\n",
              "      <th>index</th>\n",
              "      <th>title</th>\n",
              "      <th>text</th>\n",
              "      <th>subject</th>\n",
              "      <th>date</th>\n",
              "      <th>label</th>\n",
              "    </tr>\n",
              "  </thead>\n",
              "  <tbody>\n",
              "    <tr>\n",
              "      <th>0</th>\n",
              "      <td>20875</td>\n",
              "      <td>POLICE OFFICER Asks Daughter’s School To Remov...</td>\n",
              "      <td>What do you think about the school s response ...</td>\n",
              "      <td>left-news</td>\n",
              "      <td>Mar 14, 2016</td>\n",
              "      <td>0</td>\n",
              "    </tr>\n",
              "    <tr>\n",
              "      <th>1</th>\n",
              "      <td>8614</td>\n",
              "      <td>Mike Pence warns of 'consequences' if Russia h...</td>\n",
              "      <td>WASHINGTON (Reuters) - U.S. Republican vice pr...</td>\n",
              "      <td>politicsNews</td>\n",
              "      <td>July 27, 2016</td>\n",
              "      <td>1</td>\n",
              "    </tr>\n",
              "    <tr>\n",
              "      <th>2</th>\n",
              "      <td>5534</td>\n",
              "      <td>‘Sit On The Sofa And Lift Your Skirt Up’: 6 M...</td>\n",
              "      <td>Six more women have come forward to allege tha...</td>\n",
              "      <td>News</td>\n",
              "      <td>July 9, 2016</td>\n",
              "      <td>0</td>\n",
              "    </tr>\n",
              "    <tr>\n",
              "      <th>3</th>\n",
              "      <td>4113</td>\n",
              "      <td>Sarah Palin Calls For Executing Democratic ‘C...</td>\n",
              "      <td>Sarah Palin agrees with Donald Trump that Demo...</td>\n",
              "      <td>News</td>\n",
              "      <td>October 20, 2016</td>\n",
              "      <td>0</td>\n",
              "    </tr>\n",
              "    <tr>\n",
              "      <th>4</th>\n",
              "      <td>8748</td>\n",
              "      <td>The Winner Of The GOP Debate Is…Bernie Sander...</td>\n",
              "      <td>If a debate is won according to who generates ...</td>\n",
              "      <td>News</td>\n",
              "      <td>January 15, 2016</td>\n",
              "      <td>0</td>\n",
              "    </tr>\n",
              "  </tbody>\n",
              "</table>\n",
              "</div>"
            ],
            "text/plain": [
              "   index  ... label\n",
              "0  20875  ...     0\n",
              "1   8614  ...     1\n",
              "2   5534  ...     0\n",
              "3   4113  ...     0\n",
              "4   8748  ...     0\n",
              "\n",
              "[5 rows x 6 columns]"
            ]
          },
          "metadata": {
            "tags": []
          },
          "execution_count": 10
        }
      ]
    },
    {
      "cell_type": "code",
      "metadata": {
        "id": "FewMwPak_2pa",
        "colab": {
          "base_uri": "https://localhost:8080/",
          "height": 195
        },
        "outputId": "8b0eb93f-e076-4586-a481-f9ea714548b7"
      },
      "source": [
        "df.drop('index',axis=1,inplace=True)\n",
        "df.head()"
      ],
      "execution_count": 11,
      "outputs": [
        {
          "output_type": "execute_result",
          "data": {
            "text/html": [
              "<div>\n",
              "<style scoped>\n",
              "    .dataframe tbody tr th:only-of-type {\n",
              "        vertical-align: middle;\n",
              "    }\n",
              "\n",
              "    .dataframe tbody tr th {\n",
              "        vertical-align: top;\n",
              "    }\n",
              "\n",
              "    .dataframe thead th {\n",
              "        text-align: right;\n",
              "    }\n",
              "</style>\n",
              "<table border=\"1\" class=\"dataframe\">\n",
              "  <thead>\n",
              "    <tr style=\"text-align: right;\">\n",
              "      <th></th>\n",
              "      <th>title</th>\n",
              "      <th>text</th>\n",
              "      <th>subject</th>\n",
              "      <th>date</th>\n",
              "      <th>label</th>\n",
              "    </tr>\n",
              "  </thead>\n",
              "  <tbody>\n",
              "    <tr>\n",
              "      <th>0</th>\n",
              "      <td>POLICE OFFICER Asks Daughter’s School To Remov...</td>\n",
              "      <td>What do you think about the school s response ...</td>\n",
              "      <td>left-news</td>\n",
              "      <td>Mar 14, 2016</td>\n",
              "      <td>0</td>\n",
              "    </tr>\n",
              "    <tr>\n",
              "      <th>1</th>\n",
              "      <td>Mike Pence warns of 'consequences' if Russia h...</td>\n",
              "      <td>WASHINGTON (Reuters) - U.S. Republican vice pr...</td>\n",
              "      <td>politicsNews</td>\n",
              "      <td>July 27, 2016</td>\n",
              "      <td>1</td>\n",
              "    </tr>\n",
              "    <tr>\n",
              "      <th>2</th>\n",
              "      <td>‘Sit On The Sofa And Lift Your Skirt Up’: 6 M...</td>\n",
              "      <td>Six more women have come forward to allege tha...</td>\n",
              "      <td>News</td>\n",
              "      <td>July 9, 2016</td>\n",
              "      <td>0</td>\n",
              "    </tr>\n",
              "    <tr>\n",
              "      <th>3</th>\n",
              "      <td>Sarah Palin Calls For Executing Democratic ‘C...</td>\n",
              "      <td>Sarah Palin agrees with Donald Trump that Demo...</td>\n",
              "      <td>News</td>\n",
              "      <td>October 20, 2016</td>\n",
              "      <td>0</td>\n",
              "    </tr>\n",
              "    <tr>\n",
              "      <th>4</th>\n",
              "      <td>The Winner Of The GOP Debate Is…Bernie Sander...</td>\n",
              "      <td>If a debate is won according to who generates ...</td>\n",
              "      <td>News</td>\n",
              "      <td>January 15, 2016</td>\n",
              "      <td>0</td>\n",
              "    </tr>\n",
              "  </tbody>\n",
              "</table>\n",
              "</div>"
            ],
            "text/plain": [
              "                                               title  ... label\n",
              "0  POLICE OFFICER Asks Daughter’s School To Remov...  ...     0\n",
              "1  Mike Pence warns of 'consequences' if Russia h...  ...     1\n",
              "2   ‘Sit On The Sofa And Lift Your Skirt Up’: 6 M...  ...     0\n",
              "3   Sarah Palin Calls For Executing Democratic ‘C...  ...     0\n",
              "4   The Winner Of The GOP Debate Is…Bernie Sander...  ...     0\n",
              "\n",
              "[5 rows x 5 columns]"
            ]
          },
          "metadata": {
            "tags": []
          },
          "execution_count": 11
        }
      ]
    },
    {
      "cell_type": "code",
      "metadata": {
        "id": "CYFy10aJ_5YC",
        "colab": {
          "base_uri": "https://localhost:8080/"
        },
        "outputId": "3b518c68-f8af-4c66-cea6-b45907a33ba0"
      },
      "source": [
        "df.isna().sum()"
      ],
      "execution_count": 12,
      "outputs": [
        {
          "output_type": "execute_result",
          "data": {
            "text/plain": [
              "title      0\n",
              "text       0\n",
              "subject    0\n",
              "date       0\n",
              "label      0\n",
              "dtype: int64"
            ]
          },
          "metadata": {
            "tags": []
          },
          "execution_count": 12
        }
      ]
    },
    {
      "cell_type": "code",
      "metadata": {
        "colab": {
          "base_uri": "https://localhost:8080/"
        },
        "id": "tokFUss7__dq",
        "outputId": "02a19b25-5395-48d3-dcf3-660b54218a10"
      },
      "source": [
        "df.shape"
      ],
      "execution_count": 13,
      "outputs": [
        {
          "output_type": "execute_result",
          "data": {
            "text/plain": [
              "(44898, 5)"
            ]
          },
          "metadata": {
            "tags": []
          },
          "execution_count": 13
        }
      ]
    },
    {
      "cell_type": "markdown",
      "metadata": {
        "id": "1ifjkaHSDwE2"
      },
      "source": [
        "## **Basic Data Exploration and Visualization**"
      ]
    },
    {
      "cell_type": "code",
      "metadata": {
        "colab": {
          "base_uri": "https://localhost:8080/",
          "height": 405
        },
        "id": "lPo3xDdX_76n",
        "outputId": "4983f7b7-b0c4-4bc2-e969-6b7998db042b"
      },
      "source": [
        "plt.figure(figsize=(6,6))\n",
        "sns.countplot(x='label',data=df)"
      ],
      "execution_count": 14,
      "outputs": [
        {
          "output_type": "execute_result",
          "data": {
            "text/plain": [
              "<matplotlib.axes._subplots.AxesSubplot at 0x7f3b7e4e90d0>"
            ]
          },
          "metadata": {
            "tags": []
          },
          "execution_count": 14
        },
        {
          "output_type": "display_data",
          "data": {
            "image/png": "[encoded data removed]",
            "text/plain": [
              "<Figure size 432x432 with 1 Axes>"
            ]
          },
          "metadata": {
            "tags": []
          }
        }
      ]
    },
    {
      "cell_type": "code",
      "metadata": {
        "colab": {
          "base_uri": "https://localhost:8080/",
          "height": 406
        },
        "id": "wCfgW_Ru_9Sa",
        "outputId": "6bf102ea-4f63-4dd1-cb2d-729ad6263231"
      },
      "source": [
        "plt.figure(figsize=(12,6))\n",
        "sns.countplot(x='subject',data=df)"
      ],
      "execution_count": 15,
      "outputs": [
        {
          "output_type": "execute_result",
          "data": {
            "text/plain": [
              "<matplotlib.axes._subplots.AxesSubplot at 0x7f3aeef9a690>"
            ]
          },
          "metadata": {
            "tags": []
          },
          "execution_count": 15
        },
        {
          "output_type": "display_data",
          "data": {
            "image/png": "[encoded data removed]",
            "text/plain": [
              "<Figure size 864x432 with 1 Axes>"
            ]
          },
          "metadata": {
            "tags": []
          }
        }
      ]
    },
    {
      "cell_type": "markdown",
      "metadata": {
        "id": "K8y6r3wjH3I8"
      },
      "source": [
        "##**Using Title**"
      ]
    },
    {
      "cell_type": "markdown",
      "metadata": {
        "id": "3iWaoCP4D70M"
      },
      "source": [
        "**Data Cleaning**"
      ]
    },
    {
      "cell_type": "code",
      "metadata": {
        "colab": {
          "base_uri": "https://localhost:8080/"
        },
        "id": "0LoUEOJzABYD",
        "outputId": "9c709371-9d27-4a70-b4d9-69133a160c7b"
      },
      "source": [
        "from tensorflow.keras.layers import Embedding\n",
        "from tensorflow.keras.preprocessing.sequence import pad_sequences\n",
        "from tensorflow.keras.models import Sequential\n",
        "from tensorflow.keras.preprocessing.text import one_hot\n",
        "from tensorflow.keras.layers import LSTM\n",
        "from tensorflow.keras.layers import Dense\n",
        "\n",
        "import nltk\n",
        "import re\n",
        "from nltk.corpus import stopwords\n",
        "nltk.download('stopwords')\n",
        "from nltk.stem import WordNetLemmatizer\n",
        "nltk.download('wordnet')"
      ],
      "execution_count": 16,
      "outputs": [
        {
          "output_type": "stream",
          "text": [
            "[nltk_data] Downloading package stopwords to /root/nltk_data...\n",
            "[nltk_data]   Unzipping corpora/stopwords.zip.\n",
            "[nltk_data] Downloading package wordnet to /root/nltk_data...\n",
            "[nltk_data]   Unzipping corpora/wordnet.zip.\n"
          ],
          "name": "stdout"
        },
        {
          "output_type": "execute_result",
          "data": {
            "text/plain": [
              "True"
            ]
          },
          "metadata": {
            "tags": []
          },
          "execution_count": 16
        }
      ]
    },
    {
      "cell_type": "code",
      "metadata": {
        "id": "-KRj6OsEEeeE"
      },
      "source": [
        "y = df['label']\n",
        "X = df.drop('label',axis=1)"
      ],
      "execution_count": 17,
      "outputs": []
    },
    {
      "cell_type": "code",
      "metadata": {
        "id": "gHc5zNXkExUQ"
      },
      "source": [
        "news = X.copy()"
      ],
      "execution_count": 18,
      "outputs": []
    },
    {
      "cell_type": "code",
      "metadata": {
        "id": "kfRgGbK8EzZX",
        "colab": {
          "base_uri": "https://localhost:8080/",
          "height": 195
        },
        "outputId": "79370e6b-44f5-4ab0-d055-ec954f9f1410"
      },
      "source": [
        "news.head()"
      ],
      "execution_count": 19,
      "outputs": [
        {
          "output_type": "execute_result",
          "data": {
            "text/html": [
              "<div>\n",
              "<style scoped>\n",
              "    .dataframe tbody tr th:only-of-type {\n",
              "        vertical-align: middle;\n",
              "    }\n",
              "\n",
              "    .dataframe tbody tr th {\n",
              "        vertical-align: top;\n",
              "    }\n",
              "\n",
              "    .dataframe thead th {\n",
              "        text-align: right;\n",
              "    }\n",
              "</style>\n",
              "<table border=\"1\" class=\"dataframe\">\n",
              "  <thead>\n",
              "    <tr style=\"text-align: right;\">\n",
              "      <th></th>\n",
              "      <th>title</th>\n",
              "      <th>text</th>\n",
              "      <th>subject</th>\n",
              "      <th>date</th>\n",
              "    </tr>\n",
              "  </thead>\n",
              "  <tbody>\n",
              "    <tr>\n",
              "      <th>0</th>\n",
              "      <td>POLICE OFFICER Asks Daughter’s School To Remov...</td>\n",
              "      <td>What do you think about the school s response ...</td>\n",
              "      <td>left-news</td>\n",
              "      <td>Mar 14, 2016</td>\n",
              "    </tr>\n",
              "    <tr>\n",
              "      <th>1</th>\n",
              "      <td>Mike Pence warns of 'consequences' if Russia h...</td>\n",
              "      <td>WASHINGTON (Reuters) - U.S. Republican vice pr...</td>\n",
              "      <td>politicsNews</td>\n",
              "      <td>July 27, 2016</td>\n",
              "    </tr>\n",
              "    <tr>\n",
              "      <th>2</th>\n",
              "      <td>‘Sit On The Sofa And Lift Your Skirt Up’: 6 M...</td>\n",
              "      <td>Six more women have come forward to allege tha...</td>\n",
              "      <td>News</td>\n",
              "      <td>July 9, 2016</td>\n",
              "    </tr>\n",
              "    <tr>\n",
              "      <th>3</th>\n",
              "      <td>Sarah Palin Calls For Executing Democratic ‘C...</td>\n",
              "      <td>Sarah Palin agrees with Donald Trump that Demo...</td>\n",
              "      <td>News</td>\n",
              "      <td>October 20, 2016</td>\n",
              "    </tr>\n",
              "    <tr>\n",
              "      <th>4</th>\n",
              "      <td>The Winner Of The GOP Debate Is…Bernie Sander...</td>\n",
              "      <td>If a debate is won according to who generates ...</td>\n",
              "      <td>News</td>\n",
              "      <td>January 15, 2016</td>\n",
              "    </tr>\n",
              "  </tbody>\n",
              "</table>\n",
              "</div>"
            ],
            "text/plain": [
              "                                               title  ...              date\n",
              "0  POLICE OFFICER Asks Daughter’s School To Remov...  ...      Mar 14, 2016\n",
              "1  Mike Pence warns of 'consequences' if Russia h...  ...    July 27, 2016 \n",
              "2   ‘Sit On The Sofa And Lift Your Skirt Up’: 6 M...  ...      July 9, 2016\n",
              "3   Sarah Palin Calls For Executing Democratic ‘C...  ...  October 20, 2016\n",
              "4   The Winner Of The GOP Debate Is…Bernie Sander...  ...  January 15, 2016\n",
              "\n",
              "[5 rows x 4 columns]"
            ]
          },
          "metadata": {
            "tags": []
          },
          "execution_count": 19
        }
      ]
    },
    {
      "cell_type": "code",
      "metadata": {
        "colab": {
          "base_uri": "https://localhost:8080/",
          "height": 35
        },
        "id": "vgroPKGFE3ff",
        "outputId": "2fe483bb-a99e-4d2d-eab1-7ac16392380f"
      },
      "source": [
        "news['title'][0]"
      ],
      "execution_count": 20,
      "outputs": [
        {
          "output_type": "execute_result",
          "data": {
            "application/vnd.google.colaboratory.intrinsic+json": {
              "type": "string"
            },
            "text/plain": [
              "'POLICE OFFICER Asks Daughter’s School To Remove Hateful Drawing From Display…School Has SHOCKING Response'"
            ]
          },
          "metadata": {
            "tags": []
          },
          "execution_count": 20
        }
      ]
    },
    {
      "cell_type": "code",
      "metadata": {
        "id": "5RsFyo9ZE7ZQ"
      },
      "source": [
        "corpus=[]\n",
        "\n",
        "for i in range(len(news)):\n",
        "    text=re.sub('[^a-zA-Z]',' ',news['title'][i])\n",
        "    text=text.lower()\n",
        "    text_words=text.split()\n",
        "    stem_words=[WordNetLemmatizer().lemmatize(word) for word in text_words if word not in stopwords.words('english') ]\n",
        "    text=' '.join(stem_words)\n",
        "    corpus.append(text)"
      ],
      "execution_count": 21,
      "outputs": []
    },
    {
      "cell_type": "code",
      "metadata": {
        "colab": {
          "base_uri": "https://localhost:8080/"
        },
        "id": "h9xQuMeEFecr",
        "outputId": "eec72a1f-a415-41f7-8b6a-58b4983acfd2"
      },
      "source": [
        "corpus[:3]"
      ],
      "execution_count": 22,
      "outputs": [
        {
          "output_type": "execute_result",
          "data": {
            "text/plain": [
              "['police officer asks daughter school remove hateful drawing display school shocking response',\n",
              " 'mike penny warns consequence russia hacked email',\n",
              " 'sit sofa lift skirt woman allege harassment fox news bos including teenager']"
            ]
          },
          "metadata": {
            "tags": []
          },
          "execution_count": 22
        }
      ]
    },
    {
      "cell_type": "markdown",
      "metadata": {
        "id": "OOl_E0JIIIyz"
      },
      "source": [
        "**Tokenizing and Padding Corpus**"
      ]
    },
    {
      "cell_type": "code",
      "metadata": {
        "colab": {
          "base_uri": "https://localhost:8080/"
        },
        "id": "vd7V5xcnF_tV",
        "outputId": "8c199d80-2c64-477c-8b54-cdf8d2edcf96"
      },
      "source": [
        "vocab_size=50000\n",
        "onehot_corpus=[one_hot(words,vocab_size) for words in corpus]\n",
        "onehot_corpus[:5]"
      ],
      "execution_count": 23,
      "outputs": [
        {
          "output_type": "execute_result",
          "data": {
            "text/plain": [
              "[[35758,\n",
              "  17091,\n",
              "  37506,\n",
              "  4476,\n",
              "  45736,\n",
              "  41539,\n",
              "  470,\n",
              "  17608,\n",
              "  34832,\n",
              "  45736,\n",
              "  22385,\n",
              "  36697],\n",
              " [29671, 49384, 27730, 26674, 8165, 38457, 12470],\n",
              " [47541,\n",
              "  16370,\n",
              "  23231,\n",
              "  7230,\n",
              "  24122,\n",
              "  13633,\n",
              "  8450,\n",
              "  49300,\n",
              "  9519,\n",
              "  8351,\n",
              "  42712,\n",
              "  11299],\n",
              " [16042, 1118, 15431, 6838, 8366, 35900, 25332, 1475],\n",
              " [2536, 4453, 4235, 10716, 8635]]"
            ]
          },
          "metadata": {
            "tags": []
          },
          "execution_count": 23
        }
      ]
    },
    {
      "cell_type": "code",
      "metadata": {
        "colab": {
          "base_uri": "https://localhost:8080/"
        },
        "id": "EsegZ4RJGQjS",
        "outputId": "f7325d51-5056-440d-df14-9ba0b870b95c"
      },
      "source": [
        "max_length=20\n",
        "embedded_docs=pad_sequences(onehot_corpus,maxlen=max_length,padding='pre')\n",
        "embedded_docs[:5]"
      ],
      "execution_count": 24,
      "outputs": [
        {
          "output_type": "execute_result",
          "data": {
            "text/plain": [
              "array([[    0,     0,     0,     0,     0,     0,     0,     0, 35758,\n",
              "        17091, 37506,  4476, 45736, 41539,   470, 17608, 34832, 45736,\n",
              "        22385, 36697],\n",
              "       [    0,     0,     0,     0,     0,     0,     0,     0,     0,\n",
              "            0,     0,     0,     0, 29671, 49384, 27730, 26674,  8165,\n",
              "        38457, 12470],\n",
              "       [    0,     0,     0,     0,     0,     0,     0,     0, 47541,\n",
              "        16370, 23231,  7230, 24122, 13633,  8450, 49300,  9519,  8351,\n",
              "        42712, 11299],\n",
              "       [    0,     0,     0,     0,     0,     0,     0,     0,     0,\n",
              "            0,     0,     0, 16042,  1118, 15431,  6838,  8366, 35900,\n",
              "        25332,  1475],\n",
              "       [    0,     0,     0,     0,     0,     0,     0,     0,     0,\n",
              "            0,     0,     0,     0,     0,     0,  2536,  4453,  4235,\n",
              "        10716,  8635]], dtype=int32)"
            ]
          },
          "metadata": {
            "tags": []
          },
          "execution_count": 24
        }
      ]
    },
    {
      "cell_type": "code",
      "metadata": {
        "id": "wBOdT-x7Iq5T",
        "colab": {
          "base_uri": "https://localhost:8080/"
        },
        "outputId": "ab5dbb03-c68b-4102-cb0a-065ce4a85d2d"
      },
      "source": [
        "x=np.array(embedded_docs)\n",
        "x.shape"
      ],
      "execution_count": 25,
      "outputs": [
        {
          "output_type": "execute_result",
          "data": {
            "text/plain": [
              "(44898, 20)"
            ]
          },
          "metadata": {
            "tags": []
          },
          "execution_count": 25
        }
      ]
    },
    {
      "cell_type": "markdown",
      "metadata": {
        "id": "vAtu8H_mIg0D"
      },
      "source": [
        "**Defining Layers In the Neural Network**"
      ]
    },
    {
      "cell_type": "code",
      "metadata": {
        "colab": {
          "base_uri": "https://localhost:8080/"
        },
        "id": "zfD175_SGS2T",
        "outputId": "7cfd6882-7a18-4563-a1a0-d018b29e3e25"
      },
      "source": [
        "features=50\n",
        "model=Sequential()\n",
        "# Embedding layer\n",
        "model.add(Embedding(vocab_size,features,input_length=max_length))\n",
        "# Long Short Term Memory layer\n",
        "model.add(LSTM(100))\n",
        "# Output layer\n",
        "model.add(Dense(1,activation='sigmoid'))\n",
        "model.compile(loss='binary_crossentropy',optimizer='adam',metrics=['accuracy'])\n",
        "print(model.summary())"
      ],
      "execution_count": 26,
      "outputs": [
        {
          "output_type": "stream",
          "text": [
            "Model: \"sequential\"\n",
            "_________________________________________________________________\n",
            "Layer (type)                 Output Shape              Param #   \n",
            "=================================================================\n",
            "embedding (Embedding)        (None, 20, 50)            2500000   \n",
            "_________________________________________________________________\n",
            "lstm (LSTM)                  (None, 100)               60400     \n",
            "_________________________________________________________________\n",
            "dense (Dense)                (None, 1)                 101       \n",
            "=================================================================\n",
            "Total params: 2,560,501\n",
            "Trainable params: 2,560,501\n",
            "Non-trainable params: 0\n",
            "_________________________________________________________________\n",
            "None\n"
          ],
          "name": "stdout"
        }
      ]
    },
    {
      "cell_type": "markdown",
      "metadata": {
        "id": "fVyjemCZIwsa"
      },
      "source": [
        "**Splitting and Training of Dataset**"
      ]
    },
    {
      "cell_type": "code",
      "metadata": {
        "id": "iS7sbag3Gd3J"
      },
      "source": [
        "from sklearn.model_selection import train_test_split\n",
        "x_train, x_test, y_train, y_test = train_test_split(x, y, test_size=0.3, random_state=0)"
      ],
      "execution_count": 27,
      "outputs": []
    },
    {
      "cell_type": "code",
      "metadata": {
        "colab": {
          "base_uri": "https://localhost:8080/"
        },
        "id": "GdFeKjFOGgN6",
        "outputId": "6af9e904-8653-44c3-9111-6d6e66541352"
      },
      "source": [
        "model.fit(x_train,y_train,validation_data=(x_test,y_test),epochs=10,batch_size=64)"
      ],
      "execution_count": 28,
      "outputs": [
        {
          "output_type": "stream",
          "text": [
            "Epoch 1/10\n",
            "492/492 [==============================] - 47s 34ms/step - loss: 0.3287 - accuracy: 0.8480 - val_loss: 0.1361 - val_accuracy: 0.9474\n",
            "Epoch 2/10\n",
            "492/492 [==============================] - 16s 32ms/step - loss: 0.0801 - accuracy: 0.9706 - val_loss: 0.1308 - val_accuracy: 0.9506\n",
            "Epoch 3/10\n",
            "492/492 [==============================] - 16s 33ms/step - loss: 0.0424 - accuracy: 0.9842 - val_loss: 0.1433 - val_accuracy: 0.9529\n",
            "Epoch 4/10\n",
            "492/492 [==============================] - 16s 33ms/step - loss: 0.0252 - accuracy: 0.9910 - val_loss: 0.2091 - val_accuracy: 0.9483\n",
            "Epoch 5/10\n",
            "492/492 [==============================] - 16s 32ms/step - loss: 0.0155 - accuracy: 0.9944 - val_loss: 0.2206 - val_accuracy: 0.9497\n",
            "Epoch 6/10\n",
            "492/492 [==============================] - 16s 32ms/step - loss: 0.0092 - accuracy: 0.9971 - val_loss: 0.2443 - val_accuracy: 0.9516\n",
            "Epoch 7/10\n",
            "492/492 [==============================] - 16s 33ms/step - loss: 0.0056 - accuracy: 0.9983 - val_loss: 0.2619 - val_accuracy: 0.9501\n",
            "Epoch 8/10\n",
            "492/492 [==============================] - 16s 32ms/step - loss: 0.0056 - accuracy: 0.9981 - val_loss: 0.2965 - val_accuracy: 0.9482\n",
            "Epoch 9/10\n",
            "492/492 [==============================] - 16s 32ms/step - loss: 0.0039 - accuracy: 0.9986 - val_loss: 0.3334 - val_accuracy: 0.9468\n",
            "Epoch 10/10\n",
            "492/492 [==============================] - 16s 32ms/step - loss: 0.0048 - accuracy: 0.9988 - val_loss: 0.3220 - val_accuracy: 0.9495\n"
          ],
          "name": "stdout"
        },
        {
          "output_type": "execute_result",
          "data": {
            "text/plain": [
              "<tensorflow.python.keras.callbacks.History at 0x7f3adf677150>"
            ]
          },
          "metadata": {
            "tags": []
          },
          "execution_count": 28
        }
      ]
    },
    {
      "cell_type": "code",
      "metadata": {
        "id": "WxHcnRj2Gn9P",
        "colab": {
          "base_uri": "https://localhost:8080/"
        },
        "outputId": "4fa2e8d3-0156-4e1a-b64c-cd93cb205f90"
      },
      "source": [
        "y_pred=model.predict_classes(x_test)"
      ],
      "execution_count": 29,
      "outputs": [
        {
          "output_type": "stream",
          "text": [
            "/usr/local/lib/python3.7/dist-packages/tensorflow/python/keras/engine/sequential.py:450: UserWarning: `model.predict_classes()` is deprecated and will be removed after 2021-01-01. Please use instead:* `np.argmax(model.predict(x), axis=-1)`,   if your model does multi-class classification   (e.g. if it uses a `softmax` last-layer activation).* `(model.predict(x) > 0.5).astype(\"int32\")`,   if your model does binary classification   (e.g. if it uses a `sigmoid` last-layer activation).\n",
            "  warnings.warn('`model.predict_classes()` is deprecated and '\n"
          ],
          "name": "stderr"
        }
      ]
    },
    {
      "cell_type": "markdown",
      "metadata": {
        "id": "1PYX-cGRI8RU"
      },
      "source": [
        "**Model Evaluation**"
      ]
    },
    {
      "cell_type": "code",
      "metadata": {
        "colab": {
          "base_uri": "https://localhost:8080/"
        },
        "id": "KykIbwzmHbuq",
        "outputId": "665becd8-d36f-490c-da87-7a1317e476b1"
      },
      "source": [
        "from sklearn.metrics import classification_report,confusion_matrix\n",
        "print(classification_report(y_pred,y_test))"
      ],
      "execution_count": 30,
      "outputs": [
        {
          "output_type": "stream",
          "text": [
            "              precision    recall  f1-score   support\n",
            "\n",
            "           0       0.95      0.95      0.95      6997\n",
            "           1       0.95      0.94      0.95      6473\n",
            "\n",
            "    accuracy                           0.95     13470\n",
            "   macro avg       0.95      0.95      0.95     13470\n",
            "weighted avg       0.95      0.95      0.95     13470\n",
            "\n"
          ],
          "name": "stdout"
        }
      ]
    },
    {
      "cell_type": "markdown",
      "metadata": {
        "id": "tyJekNuwJDta"
      },
      "source": [
        "## **Using Text**"
      ]
    },
    {
      "cell_type": "code",
      "metadata": {
        "id": "nt4A50dJJGuz"
      },
      "source": [
        ""
      ],
      "execution_count": null,
      "outputs": []
    }
  ]
}